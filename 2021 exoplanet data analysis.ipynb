{
 "cells": [
  {
   "cell_type": "code",
   "execution_count": 22,
   "metadata": {},
   "outputs": [],
   "source": [
    "# importing required libraries\n",
    "import pandas as pd\n",
    "import numpy as np\n",
    "import matplotlib.pyplot as plt\n",
    "%matplotlib inline\n",
    "from sklearn.cluster import KMeans"
   ]
  },
  {
   "cell_type": "code",
   "execution_count": 23,
   "metadata": {},
   "outputs": [],
   "source": [
    "data=pd.read_csv(\"/Users/md.redyanahmed/Downloads/exoplanet-test.csv\")"
   ]
  },
  {
   "cell_type": "code",
   "execution_count": 24,
   "metadata": {},
   "outputs": [
    {
     "data": {
      "text/html": [
       "<div>\n",
       "<style scoped>\n",
       "    .dataframe tbody tr th:only-of-type {\n",
       "        vertical-align: middle;\n",
       "    }\n",
       "\n",
       "    .dataframe tbody tr th {\n",
       "        vertical-align: top;\n",
       "    }\n",
       "\n",
       "    .dataframe thead th {\n",
       "        text-align: right;\n",
       "    }\n",
       "</style>\n",
       "<table border=\"1\" class=\"dataframe\">\n",
       "  <thead>\n",
       "    <tr style=\"text-align: right;\">\n",
       "      <th></th>\n",
       "      <th>loc_rowid</th>\n",
       "      <th>pl_name</th>\n",
       "      <th>hostname</th>\n",
       "      <th>default_flag</th>\n",
       "      <th>sy_snum</th>\n",
       "      <th>sy_pnum</th>\n",
       "      <th>discoverymethod</th>\n",
       "      <th>disc_year</th>\n",
       "      <th>disc_facility</th>\n",
       "      <th>soltype</th>\n",
       "      <th>...</th>\n",
       "      <th>sy_vmagerr2</th>\n",
       "      <th>sy_kmag</th>\n",
       "      <th>sy_kmagerr1</th>\n",
       "      <th>sy_kmagerr2</th>\n",
       "      <th>sy_gaiamag</th>\n",
       "      <th>sy_gaiamagerr1</th>\n",
       "      <th>sy_gaiamagerr2</th>\n",
       "      <th>rowupdate</th>\n",
       "      <th>pl_pubdate</th>\n",
       "      <th>releasedate</th>\n",
       "    </tr>\n",
       "  </thead>\n",
       "  <tbody>\n",
       "    <tr>\n",
       "      <th>0</th>\n",
       "      <td>153</td>\n",
       "      <td>BD+45 564 b</td>\n",
       "      <td>BD+45 564</td>\n",
       "      <td>1</td>\n",
       "      <td>1</td>\n",
       "      <td>1</td>\n",
       "      <td>Radial Velocity</td>\n",
       "      <td>2021</td>\n",
       "      <td>Haute-Provence Observatory</td>\n",
       "      <td>Published Confirmed</td>\n",
       "      <td>...</td>\n",
       "      <td>-0.03</td>\n",
       "      <td>7.557</td>\n",
       "      <td>0.024</td>\n",
       "      <td>-0.024</td>\n",
       "      <td>9.41266</td>\n",
       "      <td>0.000255</td>\n",
       "      <td>-0.000255</td>\n",
       "      <td>5/28/21</td>\n",
       "      <td>2021-05</td>\n",
       "      <td>5/28/21</td>\n",
       "    </tr>\n",
       "    <tr>\n",
       "      <th>1</th>\n",
       "      <td>157</td>\n",
       "      <td>BD+55 362 b</td>\n",
       "      <td>BD+55 362</td>\n",
       "      <td>1</td>\n",
       "      <td>1</td>\n",
       "      <td>1</td>\n",
       "      <td>Radial Velocity</td>\n",
       "      <td>2021</td>\n",
       "      <td>Haute-Provence Observatory</td>\n",
       "      <td>Published Confirmed</td>\n",
       "      <td>...</td>\n",
       "      <td>-0.03</td>\n",
       "      <td>7.331</td>\n",
       "      <td>0.021</td>\n",
       "      <td>-0.021</td>\n",
       "      <td>9.15305</td>\n",
       "      <td>0.000163</td>\n",
       "      <td>-0.000163</td>\n",
       "      <td>5/28/21</td>\n",
       "      <td>2021-05</td>\n",
       "      <td>5/28/21</td>\n",
       "    </tr>\n",
       "    <tr>\n",
       "      <th>2</th>\n",
       "      <td>158</td>\n",
       "      <td>BD+63 1405 b</td>\n",
       "      <td>BD+63 1405</td>\n",
       "      <td>1</td>\n",
       "      <td>1</td>\n",
       "      <td>1</td>\n",
       "      <td>Radial Velocity</td>\n",
       "      <td>2021</td>\n",
       "      <td>Haute-Provence Observatory</td>\n",
       "      <td>Published Confirmed</td>\n",
       "      <td>...</td>\n",
       "      <td>-0.03</td>\n",
       "      <td>6.780</td>\n",
       "      <td>0.017</td>\n",
       "      <td>-0.017</td>\n",
       "      <td>8.70500</td>\n",
       "      <td>0.000257</td>\n",
       "      <td>-0.000257</td>\n",
       "      <td>5/28/21</td>\n",
       "      <td>2021-05</td>\n",
       "      <td>5/28/21</td>\n",
       "    </tr>\n",
       "    <tr>\n",
       "      <th>3</th>\n",
       "      <td>159</td>\n",
       "      <td>BD-00 4475 b</td>\n",
       "      <td>BD-00 4475</td>\n",
       "      <td>1</td>\n",
       "      <td>1</td>\n",
       "      <td>1</td>\n",
       "      <td>Radial Velocity</td>\n",
       "      <td>2021</td>\n",
       "      <td>Haute-Provence Observatory</td>\n",
       "      <td>Published Confirmed</td>\n",
       "      <td>...</td>\n",
       "      <td>-0.03</td>\n",
       "      <td>6.996</td>\n",
       "      <td>0.026</td>\n",
       "      <td>-0.026</td>\n",
       "      <td>8.78101</td>\n",
       "      <td>0.000253</td>\n",
       "      <td>-0.000253</td>\n",
       "      <td>5/28/21</td>\n",
       "      <td>2021-05</td>\n",
       "      <td>5/28/21</td>\n",
       "    </tr>\n",
       "    <tr>\n",
       "      <th>4</th>\n",
       "      <td>177</td>\n",
       "      <td>CFHTWIR-Oph 98 b</td>\n",
       "      <td>CFHTWIR-Oph 98 A</td>\n",
       "      <td>1</td>\n",
       "      <td>1</td>\n",
       "      <td>1</td>\n",
       "      <td>Imaging</td>\n",
       "      <td>2021</td>\n",
       "      <td>Hubble Space Telescope</td>\n",
       "      <td>Published Confirmed</td>\n",
       "      <td>...</td>\n",
       "      <td>NaN</td>\n",
       "      <td>14.593</td>\n",
       "      <td>0.098</td>\n",
       "      <td>-0.098</td>\n",
       "      <td>NaN</td>\n",
       "      <td>NaN</td>\n",
       "      <td>NaN</td>\n",
       "      <td>5/17/21</td>\n",
       "      <td>2020-12</td>\n",
       "      <td>5/17/21</td>\n",
       "    </tr>\n",
       "  </tbody>\n",
       "</table>\n",
       "<p>5 rows × 93 columns</p>\n",
       "</div>"
      ],
      "text/plain": [
       "   loc_rowid           pl_name          hostname  default_flag  sy_snum  \\\n",
       "0        153       BD+45 564 b         BD+45 564             1        1   \n",
       "1        157       BD+55 362 b         BD+55 362             1        1   \n",
       "2        158      BD+63 1405 b        BD+63 1405             1        1   \n",
       "3        159      BD-00 4475 b        BD-00 4475             1        1   \n",
       "4        177  CFHTWIR-Oph 98 b  CFHTWIR-Oph 98 A             1        1   \n",
       "\n",
       "   sy_pnum  discoverymethod  disc_year               disc_facility  \\\n",
       "0        1  Radial Velocity       2021  Haute-Provence Observatory   \n",
       "1        1  Radial Velocity       2021  Haute-Provence Observatory   \n",
       "2        1  Radial Velocity       2021  Haute-Provence Observatory   \n",
       "3        1  Radial Velocity       2021  Haute-Provence Observatory   \n",
       "4        1          Imaging       2021      Hubble Space Telescope   \n",
       "\n",
       "               soltype  ...  sy_vmagerr2 sy_kmag  sy_kmagerr1  sy_kmagerr2  \\\n",
       "0  Published Confirmed  ...        -0.03   7.557        0.024       -0.024   \n",
       "1  Published Confirmed  ...        -0.03   7.331        0.021       -0.021   \n",
       "2  Published Confirmed  ...        -0.03   6.780        0.017       -0.017   \n",
       "3  Published Confirmed  ...        -0.03   6.996        0.026       -0.026   \n",
       "4  Published Confirmed  ...          NaN  14.593        0.098       -0.098   \n",
       "\n",
       "   sy_gaiamag  sy_gaiamagerr1  sy_gaiamagerr2  rowupdate  pl_pubdate  \\\n",
       "0     9.41266        0.000255       -0.000255    5/28/21     2021-05   \n",
       "1     9.15305        0.000163       -0.000163    5/28/21     2021-05   \n",
       "2     8.70500        0.000257       -0.000257    5/28/21     2021-05   \n",
       "3     8.78101        0.000253       -0.000253    5/28/21     2021-05   \n",
       "4         NaN             NaN             NaN    5/17/21     2020-12   \n",
       "\n",
       "   releasedate  \n",
       "0      5/28/21  \n",
       "1      5/28/21  \n",
       "2      5/28/21  \n",
       "3      5/28/21  \n",
       "4      5/17/21  \n",
       "\n",
       "[5 rows x 93 columns]"
      ]
     },
     "execution_count": 24,
     "metadata": {},
     "output_type": "execute_result"
    }
   ],
   "source": [
    "data.head()"
   ]
  },
  {
   "cell_type": "code",
   "execution_count": 40,
   "metadata": {},
   "outputs": [
    {
     "data": {
      "text/html": [
       "<div>\n",
       "<style scoped>\n",
       "    .dataframe tbody tr th:only-of-type {\n",
       "        vertical-align: middle;\n",
       "    }\n",
       "\n",
       "    .dataframe tbody tr th {\n",
       "        vertical-align: top;\n",
       "    }\n",
       "\n",
       "    .dataframe thead th {\n",
       "        text-align: right;\n",
       "    }\n",
       "</style>\n",
       "<table border=\"1\" class=\"dataframe\">\n",
       "  <thead>\n",
       "    <tr style=\"text-align: right;\">\n",
       "      <th></th>\n",
       "      <th>loc_rowid</th>\n",
       "      <th>pl_name</th>\n",
       "      <th>hostname</th>\n",
       "      <th>default_flag</th>\n",
       "      <th>sy_snum</th>\n",
       "      <th>sy_pnum</th>\n",
       "      <th>discoverymethod</th>\n",
       "      <th>disc_year</th>\n",
       "      <th>disc_facility</th>\n",
       "      <th>soltype</th>\n",
       "      <th>...</th>\n",
       "      <th>sy_vmagerr2</th>\n",
       "      <th>sy_kmag</th>\n",
       "      <th>sy_kmagerr1</th>\n",
       "      <th>sy_kmagerr2</th>\n",
       "      <th>sy_gaiamag</th>\n",
       "      <th>sy_gaiamagerr1</th>\n",
       "      <th>sy_gaiamagerr2</th>\n",
       "      <th>rowupdate</th>\n",
       "      <th>pl_pubdate</th>\n",
       "      <th>releasedate</th>\n",
       "    </tr>\n",
       "  </thead>\n",
       "  <tbody>\n",
       "    <tr>\n",
       "      <th>177</th>\n",
       "      <td>28835</td>\n",
       "      <td>TOI-674 b</td>\n",
       "      <td>TOI-674</td>\n",
       "      <td>1</td>\n",
       "      <td>1</td>\n",
       "      <td>1</td>\n",
       "      <td>Transit</td>\n",
       "      <td>2021</td>\n",
       "      <td>Transiting Exoplanet Survey Satellite (TESS)</td>\n",
       "      <td>Published Confirmed</td>\n",
       "      <td>...</td>\n",
       "      <td>-0.041</td>\n",
       "      <td>9.469</td>\n",
       "      <td>0.019</td>\n",
       "      <td>-0.019</td>\n",
       "      <td>13.09140</td>\n",
       "      <td>0.000426</td>\n",
       "      <td>-0.000426</td>\n",
       "      <td>7/12/21</td>\n",
       "      <td>2021-06</td>\n",
       "      <td>7/12/21</td>\n",
       "    </tr>\n",
       "    <tr>\n",
       "      <th>178</th>\n",
       "      <td>28836</td>\n",
       "      <td>TOI-674 b</td>\n",
       "      <td>TOI-674</td>\n",
       "      <td>0</td>\n",
       "      <td>1</td>\n",
       "      <td>1</td>\n",
       "      <td>Transit</td>\n",
       "      <td>2021</td>\n",
       "      <td>Transiting Exoplanet Survey Satellite (TESS)</td>\n",
       "      <td>TESS Project Candidate</td>\n",
       "      <td>...</td>\n",
       "      <td>-0.041</td>\n",
       "      <td>9.469</td>\n",
       "      <td>0.019</td>\n",
       "      <td>-0.019</td>\n",
       "      <td>13.09140</td>\n",
       "      <td>0.000426</td>\n",
       "      <td>-0.000426</td>\n",
       "      <td>5/21/21</td>\n",
       "      <td>2017-07</td>\n",
       "      <td>5/21/21</td>\n",
       "    </tr>\n",
       "    <tr>\n",
       "      <th>179</th>\n",
       "      <td>28894</td>\n",
       "      <td>TYC 0434-04538-1 b</td>\n",
       "      <td>TYC 0434-04538-1</td>\n",
       "      <td>1</td>\n",
       "      <td>1</td>\n",
       "      <td>1</td>\n",
       "      <td>Radial Velocity</td>\n",
       "      <td>2021</td>\n",
       "      <td>Multiple Observatories</td>\n",
       "      <td>Published Confirmed</td>\n",
       "      <td>...</td>\n",
       "      <td>-0.014</td>\n",
       "      <td>7.413</td>\n",
       "      <td>0.027</td>\n",
       "      <td>-0.027</td>\n",
       "      <td>9.92369</td>\n",
       "      <td>0.000348</td>\n",
       "      <td>-0.000348</td>\n",
       "      <td>2/5/21</td>\n",
       "      <td>2021-01</td>\n",
       "      <td>2/11/21</td>\n",
       "    </tr>\n",
       "    <tr>\n",
       "      <th>180</th>\n",
       "      <td>29029</td>\n",
       "      <td>WASP-110 b</td>\n",
       "      <td>WASP-110</td>\n",
       "      <td>1</td>\n",
       "      <td>1</td>\n",
       "      <td>1</td>\n",
       "      <td>Transit</td>\n",
       "      <td>2021</td>\n",
       "      <td>Paranal Observatory</td>\n",
       "      <td>Published Confirmed</td>\n",
       "      <td>...</td>\n",
       "      <td>-0.092</td>\n",
       "      <td>10.871</td>\n",
       "      <td>0.023</td>\n",
       "      <td>-0.023</td>\n",
       "      <td>12.55170</td>\n",
       "      <td>0.000155</td>\n",
       "      <td>-0.000155</td>\n",
       "      <td>6/11/21</td>\n",
       "      <td>2021-05</td>\n",
       "      <td>6/11/21</td>\n",
       "    </tr>\n",
       "    <tr>\n",
       "      <th>181</th>\n",
       "      <td>29636</td>\n",
       "      <td>YSES 2 b</td>\n",
       "      <td>YSES 2</td>\n",
       "      <td>1</td>\n",
       "      <td>1</td>\n",
       "      <td>1</td>\n",
       "      <td>Imaging</td>\n",
       "      <td>2021</td>\n",
       "      <td>Paranal Observatory</td>\n",
       "      <td>Published Confirmed</td>\n",
       "      <td>...</td>\n",
       "      <td>-0.011</td>\n",
       "      <td>8.358</td>\n",
       "      <td>0.029</td>\n",
       "      <td>-0.029</td>\n",
       "      <td>10.53520</td>\n",
       "      <td>0.002319</td>\n",
       "      <td>-0.002319</td>\n",
       "      <td>5/28/21</td>\n",
       "      <td>2021-04</td>\n",
       "      <td>5/28/21</td>\n",
       "    </tr>\n",
       "  </tbody>\n",
       "</table>\n",
       "<p>5 rows × 93 columns</p>\n",
       "</div>"
      ],
      "text/plain": [
       "     loc_rowid             pl_name          hostname  default_flag  sy_snum  \\\n",
       "177      28835           TOI-674 b           TOI-674             1        1   \n",
       "178      28836           TOI-674 b           TOI-674             0        1   \n",
       "179      28894  TYC 0434-04538-1 b  TYC 0434-04538-1             1        1   \n",
       "180      29029          WASP-110 b          WASP-110             1        1   \n",
       "181      29636            YSES 2 b            YSES 2             1        1   \n",
       "\n",
       "     sy_pnum  discoverymethod  disc_year  \\\n",
       "177        1          Transit       2021   \n",
       "178        1          Transit       2021   \n",
       "179        1  Radial Velocity       2021   \n",
       "180        1          Transit       2021   \n",
       "181        1          Imaging       2021   \n",
       "\n",
       "                                    disc_facility                 soltype  \\\n",
       "177  Transiting Exoplanet Survey Satellite (TESS)     Published Confirmed   \n",
       "178  Transiting Exoplanet Survey Satellite (TESS)  TESS Project Candidate   \n",
       "179                        Multiple Observatories     Published Confirmed   \n",
       "180                           Paranal Observatory     Published Confirmed   \n",
       "181                           Paranal Observatory     Published Confirmed   \n",
       "\n",
       "     ...  sy_vmagerr2 sy_kmag  sy_kmagerr1  sy_kmagerr2  sy_gaiamag  \\\n",
       "177  ...       -0.041   9.469        0.019       -0.019    13.09140   \n",
       "178  ...       -0.041   9.469        0.019       -0.019    13.09140   \n",
       "179  ...       -0.014   7.413        0.027       -0.027     9.92369   \n",
       "180  ...       -0.092  10.871        0.023       -0.023    12.55170   \n",
       "181  ...       -0.011   8.358        0.029       -0.029    10.53520   \n",
       "\n",
       "     sy_gaiamagerr1  sy_gaiamagerr2  rowupdate  pl_pubdate  releasedate  \n",
       "177        0.000426       -0.000426    7/12/21     2021-06      7/12/21  \n",
       "178        0.000426       -0.000426    5/21/21     2017-07      5/21/21  \n",
       "179        0.000348       -0.000348     2/5/21     2021-01      2/11/21  \n",
       "180        0.000155       -0.000155    6/11/21     2021-05      6/11/21  \n",
       "181        0.002319       -0.002319    5/28/21     2021-04      5/28/21  \n",
       "\n",
       "[5 rows x 93 columns]"
      ]
     },
     "execution_count": 40,
     "metadata": {},
     "output_type": "execute_result"
    }
   ],
   "source": [
    "data.tail()"
   ]
  },
  {
   "cell_type": "code",
   "execution_count": 25,
   "metadata": {},
   "outputs": [
    {
     "data": {
      "text/html": [
       "<div>\n",
       "<style scoped>\n",
       "    .dataframe tbody tr th:only-of-type {\n",
       "        vertical-align: middle;\n",
       "    }\n",
       "\n",
       "    .dataframe tbody tr th {\n",
       "        vertical-align: top;\n",
       "    }\n",
       "\n",
       "    .dataframe thead th {\n",
       "        text-align: right;\n",
       "    }\n",
       "</style>\n",
       "<table border=\"1\" class=\"dataframe\">\n",
       "  <thead>\n",
       "    <tr style=\"text-align: right;\">\n",
       "      <th></th>\n",
       "      <th>loc_rowid</th>\n",
       "      <th>default_flag</th>\n",
       "      <th>sy_snum</th>\n",
       "      <th>sy_pnum</th>\n",
       "      <th>disc_year</th>\n",
       "      <th>pl_controv_flag</th>\n",
       "      <th>pl_orbper</th>\n",
       "      <th>pl_orbpererr1</th>\n",
       "      <th>pl_orbpererr2</th>\n",
       "      <th>pl_orbperlim</th>\n",
       "      <th>...</th>\n",
       "      <th>sy_disterr2</th>\n",
       "      <th>sy_vmag</th>\n",
       "      <th>sy_vmagerr1</th>\n",
       "      <th>sy_vmagerr2</th>\n",
       "      <th>sy_kmag</th>\n",
       "      <th>sy_kmagerr1</th>\n",
       "      <th>sy_kmagerr2</th>\n",
       "      <th>sy_gaiamag</th>\n",
       "      <th>sy_gaiamagerr1</th>\n",
       "      <th>sy_gaiamagerr2</th>\n",
       "    </tr>\n",
       "  </thead>\n",
       "  <tbody>\n",
       "    <tr>\n",
       "      <th>count</th>\n",
       "      <td>182.000000</td>\n",
       "      <td>182.000000</td>\n",
       "      <td>182.000000</td>\n",
       "      <td>182.000000</td>\n",
       "      <td>182.0</td>\n",
       "      <td>182.0</td>\n",
       "      <td>1.720000e+02</td>\n",
       "      <td>1.660000e+02</td>\n",
       "      <td>1.660000e+02</td>\n",
       "      <td>173.0</td>\n",
       "      <td>...</td>\n",
       "      <td>181.000000</td>\n",
       "      <td>175.000000</td>\n",
       "      <td>175.000000</td>\n",
       "      <td>175.000000</td>\n",
       "      <td>175.000000</td>\n",
       "      <td>175.000000</td>\n",
       "      <td>175.000000</td>\n",
       "      <td>174.000000</td>\n",
       "      <td>174.000000</td>\n",
       "      <td>174.000000</td>\n",
       "    </tr>\n",
       "    <tr>\n",
       "      <th>mean</th>\n",
       "      <td>13791.269231</td>\n",
       "      <td>0.642857</td>\n",
       "      <td>1.087912</td>\n",
       "      <td>1.857143</td>\n",
       "      <td>2021.0</td>\n",
       "      <td>0.0</td>\n",
       "      <td>4.770041e+04</td>\n",
       "      <td>3.592362e+03</td>\n",
       "      <td>-3.112181e+03</td>\n",
       "      <td>0.0</td>\n",
       "      <td>...</td>\n",
       "      <td>-82.927600</td>\n",
       "      <td>11.114619</td>\n",
       "      <td>0.053898</td>\n",
       "      <td>-0.053898</td>\n",
       "      <td>8.685074</td>\n",
       "      <td>0.139914</td>\n",
       "      <td>-0.139914</td>\n",
       "      <td>10.751006</td>\n",
       "      <td>0.000482</td>\n",
       "      <td>-0.000482</td>\n",
       "    </tr>\n",
       "    <tr>\n",
       "      <th>std</th>\n",
       "      <td>13177.685581</td>\n",
       "      <td>0.480479</td>\n",
       "      <td>0.283948</td>\n",
       "      <td>1.309307</td>\n",
       "      <td>0.0</td>\n",
       "      <td>0.0</td>\n",
       "      <td>6.129882e+05</td>\n",
       "      <td>3.677764e+04</td>\n",
       "      <td>3.650125e+04</td>\n",
       "      <td>0.0</td>\n",
       "      <td>...</td>\n",
       "      <td>407.199548</td>\n",
       "      <td>2.632504</td>\n",
       "      <td>0.048441</td>\n",
       "      <td>0.048441</td>\n",
       "      <td>2.360157</td>\n",
       "      <td>1.063094</td>\n",
       "      <td>1.063094</td>\n",
       "      <td>2.512120</td>\n",
       "      <td>0.000797</td>\n",
       "      <td>0.000797</td>\n",
       "    </tr>\n",
       "    <tr>\n",
       "      <th>min</th>\n",
       "      <td>153.000000</td>\n",
       "      <td>0.000000</td>\n",
       "      <td>1.000000</td>\n",
       "      <td>1.000000</td>\n",
       "      <td>2021.0</td>\n",
       "      <td>0.0</td>\n",
       "      <td>4.702540e-01</td>\n",
       "      <td>5.000000e-07</td>\n",
       "      <td>-4.700000e+05</td>\n",
       "      <td>0.0</td>\n",
       "      <td>...</td>\n",
       "      <td>-2360.000000</td>\n",
       "      <td>4.415400</td>\n",
       "      <td>0.002000</td>\n",
       "      <td>-0.214100</td>\n",
       "      <td>2.989000</td>\n",
       "      <td>0.012000</td>\n",
       "      <td>-9.995000</td>\n",
       "      <td>4.279650</td>\n",
       "      <td>0.000148</td>\n",
       "      <td>-0.008487</td>\n",
       "    </tr>\n",
       "    <tr>\n",
       "      <th>25%</th>\n",
       "      <td>1502.250000</td>\n",
       "      <td>0.000000</td>\n",
       "      <td>1.000000</td>\n",
       "      <td>1.000000</td>\n",
       "      <td>2021.0</td>\n",
       "      <td>0.0</td>\n",
       "      <td>4.012186e+00</td>\n",
       "      <td>2.000000e-05</td>\n",
       "      <td>-1.125000e-02</td>\n",
       "      <td>0.0</td>\n",
       "      <td>...</td>\n",
       "      <td>-2.794000</td>\n",
       "      <td>8.855000</td>\n",
       "      <td>0.030000</td>\n",
       "      <td>-0.076000</td>\n",
       "      <td>6.955000</td>\n",
       "      <td>0.020000</td>\n",
       "      <td>-0.026000</td>\n",
       "      <td>8.719780</td>\n",
       "      <td>0.000261</td>\n",
       "      <td>-0.000448</td>\n",
       "    </tr>\n",
       "    <tr>\n",
       "      <th>50%</th>\n",
       "      <td>4526.500000</td>\n",
       "      <td>1.000000</td>\n",
       "      <td>1.000000</td>\n",
       "      <td>1.000000</td>\n",
       "      <td>2021.0</td>\n",
       "      <td>0.0</td>\n",
       "      <td>1.035496e+01</td>\n",
       "      <td>4.476000e-04</td>\n",
       "      <td>-4.476000e-04</td>\n",
       "      <td>0.0</td>\n",
       "      <td>...</td>\n",
       "      <td>-0.242300</td>\n",
       "      <td>10.936000</td>\n",
       "      <td>0.030000</td>\n",
       "      <td>-0.030000</td>\n",
       "      <td>8.600000</td>\n",
       "      <td>0.022000</td>\n",
       "      <td>-0.022000</td>\n",
       "      <td>10.641700</td>\n",
       "      <td>0.000321</td>\n",
       "      <td>-0.000321</td>\n",
       "    </tr>\n",
       "    <tr>\n",
       "      <th>75%</th>\n",
       "      <td>28749.750000</td>\n",
       "      <td>1.000000</td>\n",
       "      <td>1.000000</td>\n",
       "      <td>2.000000</td>\n",
       "      <td>2021.0</td>\n",
       "      <td>0.0</td>\n",
       "      <td>3.587270e+01</td>\n",
       "      <td>1.110750e-02</td>\n",
       "      <td>-1.925000e-05</td>\n",
       "      <td>0.0</td>\n",
       "      <td>...</td>\n",
       "      <td>-0.097100</td>\n",
       "      <td>13.440000</td>\n",
       "      <td>0.076000</td>\n",
       "      <td>-0.030000</td>\n",
       "      <td>10.270000</td>\n",
       "      <td>0.026000</td>\n",
       "      <td>-0.020000</td>\n",
       "      <td>12.754300</td>\n",
       "      <td>0.000448</td>\n",
       "      <td>-0.000261</td>\n",
       "    </tr>\n",
       "    <tr>\n",
       "      <th>max</th>\n",
       "      <td>29636.000000</td>\n",
       "      <td>1.000000</td>\n",
       "      <td>2.000000</td>\n",
       "      <td>6.000000</td>\n",
       "      <td>2021.0</td>\n",
       "      <td>0.0</td>\n",
       "      <td>8.040000e+06</td>\n",
       "      <td>4.700000e+05</td>\n",
       "      <td>-5.000000e-07</td>\n",
       "      <td>0.0</td>\n",
       "      <td>...</td>\n",
       "      <td>-0.002485</td>\n",
       "      <td>20.154400</td>\n",
       "      <td>0.214100</td>\n",
       "      <td>-0.002000</td>\n",
       "      <td>14.593000</td>\n",
       "      <td>9.995000</td>\n",
       "      <td>-0.012000</td>\n",
       "      <td>19.879000</td>\n",
       "      <td>0.008487</td>\n",
       "      <td>-0.000148</td>\n",
       "    </tr>\n",
       "  </tbody>\n",
       "</table>\n",
       "<p>8 rows × 77 columns</p>\n",
       "</div>"
      ],
      "text/plain": [
       "          loc_rowid  default_flag     sy_snum     sy_pnum  disc_year  \\\n",
       "count    182.000000    182.000000  182.000000  182.000000      182.0   \n",
       "mean   13791.269231      0.642857    1.087912    1.857143     2021.0   \n",
       "std    13177.685581      0.480479    0.283948    1.309307        0.0   \n",
       "min      153.000000      0.000000    1.000000    1.000000     2021.0   \n",
       "25%     1502.250000      0.000000    1.000000    1.000000     2021.0   \n",
       "50%     4526.500000      1.000000    1.000000    1.000000     2021.0   \n",
       "75%    28749.750000      1.000000    1.000000    2.000000     2021.0   \n",
       "max    29636.000000      1.000000    2.000000    6.000000     2021.0   \n",
       "\n",
       "       pl_controv_flag     pl_orbper  pl_orbpererr1  pl_orbpererr2  \\\n",
       "count            182.0  1.720000e+02   1.660000e+02   1.660000e+02   \n",
       "mean               0.0  4.770041e+04   3.592362e+03  -3.112181e+03   \n",
       "std                0.0  6.129882e+05   3.677764e+04   3.650125e+04   \n",
       "min                0.0  4.702540e-01   5.000000e-07  -4.700000e+05   \n",
       "25%                0.0  4.012186e+00   2.000000e-05  -1.125000e-02   \n",
       "50%                0.0  1.035496e+01   4.476000e-04  -4.476000e-04   \n",
       "75%                0.0  3.587270e+01   1.110750e-02  -1.925000e-05   \n",
       "max                0.0  8.040000e+06   4.700000e+05  -5.000000e-07   \n",
       "\n",
       "       pl_orbperlim  ...  sy_disterr2     sy_vmag  sy_vmagerr1  sy_vmagerr2  \\\n",
       "count         173.0  ...   181.000000  175.000000   175.000000   175.000000   \n",
       "mean            0.0  ...   -82.927600   11.114619     0.053898    -0.053898   \n",
       "std             0.0  ...   407.199548    2.632504     0.048441     0.048441   \n",
       "min             0.0  ... -2360.000000    4.415400     0.002000    -0.214100   \n",
       "25%             0.0  ...    -2.794000    8.855000     0.030000    -0.076000   \n",
       "50%             0.0  ...    -0.242300   10.936000     0.030000    -0.030000   \n",
       "75%             0.0  ...    -0.097100   13.440000     0.076000    -0.030000   \n",
       "max             0.0  ...    -0.002485   20.154400     0.214100    -0.002000   \n",
       "\n",
       "          sy_kmag  sy_kmagerr1  sy_kmagerr2  sy_gaiamag  sy_gaiamagerr1  \\\n",
       "count  175.000000   175.000000   175.000000  174.000000      174.000000   \n",
       "mean     8.685074     0.139914    -0.139914   10.751006        0.000482   \n",
       "std      2.360157     1.063094     1.063094    2.512120        0.000797   \n",
       "min      2.989000     0.012000    -9.995000    4.279650        0.000148   \n",
       "25%      6.955000     0.020000    -0.026000    8.719780        0.000261   \n",
       "50%      8.600000     0.022000    -0.022000   10.641700        0.000321   \n",
       "75%     10.270000     0.026000    -0.020000   12.754300        0.000448   \n",
       "max     14.593000     9.995000    -0.012000   19.879000        0.008487   \n",
       "\n",
       "       sy_gaiamagerr2  \n",
       "count      174.000000  \n",
       "mean        -0.000482  \n",
       "std          0.000797  \n",
       "min         -0.008487  \n",
       "25%         -0.000448  \n",
       "50%         -0.000321  \n",
       "75%         -0.000261  \n",
       "max         -0.000148  \n",
       "\n",
       "[8 rows x 77 columns]"
      ]
     },
     "execution_count": 25,
     "metadata": {},
     "output_type": "execute_result"
    }
   ],
   "source": [
    "data.describe()"
   ]
  },
  {
   "cell_type": "code",
   "execution_count": 26,
   "metadata": {},
   "outputs": [
    {
     "name": "stdout",
     "output_type": "stream",
     "text": [
      "(182, 93)\n"
     ]
    }
   ],
   "source": [
    "print(data.shape)"
   ]
  },
  {
   "cell_type": "code",
   "execution_count": 27,
   "metadata": {},
   "outputs": [
    {
     "data": {
      "image/png": "[encoded data removed]",
      "text/plain": [
       "<Figure size 432x288 with 1 Axes>"
      ]
     },
     "metadata": {
      "needs_background": "light"
     },
     "output_type": "display_data"
    }
   ],
   "source": [
    "# Make a quick mass-radius diagram!\n",
    "\n",
    "# Plot the data with mass (in units of Jupiter masses) on the x-axis and radius \n",
    "# (in units of Jupiter radii) on the y-axis.\n",
    "\n",
    "# '.'   --> use small unconnected dots to plot the data points\n",
    "# alpha --> governs the transparency of each datapoint: 0 = completely transparent, 1 = completely opaque.\n",
    "# (alpha = 0.3 will let us see the density of the data points more easily)\n",
    "plt.plot(data['pl_bmassj'], data['pl_radj'], '.', alpha=0.5)\n",
    "\n",
    "# At the end, show the plot\n",
    "plt.show()"
   ]
  },
  {
   "cell_type": "markdown",
   "metadata": {},
   "source": [
    "let's replot things with log axes. Let's also add axis labels so we actually know what is being plotted. As a bonus, we'll add some text to the plot to show how many exoplanets are being included."
   ]
  },
  {
   "cell_type": "code",
   "execution_count": 28,
   "metadata": {},
   "outputs": [
    {
     "data": {
      "image/png": "[encoded data removed]",
      "text/plain": [
       "<Figure size 432x288 with 1 Axes>"
      ]
     },
     "metadata": {
      "needs_background": "light"
     },
     "output_type": "display_data"
    }
   ],
   "source": [
    "# Plot the data with mass (in units of Jupiter masses) on the x-axis\n",
    "plt.plot(data['pl_bmassj'], data['pl_radj'], '.', alpha=0.3)\n",
    "\n",
    "# Label your axes with units!\n",
    "plt.xlabel('Mass [M$_J$]', fontsize=10)   # You can use LaTex formatting to make your plots look more professional...\n",
    "plt.ylabel('Radius [R$_J$]', fontsize=10) # more on LaTex later in the summer! $_J$ creates a subscript J for Jupiter\n",
    "\n",
    "# Add some text to the plot so we know how many data points there are\n",
    "n_planets = len(data) # Number of planets being plotted\n",
    "\n",
    "# plt.text(x-coordinate, y-coordinate, text string, **kwargs) # x and y coordinates are in data units\n",
    "plt.text(1e-3, 1, f'N = {n_planets}', fontsize=20)\n",
    "\n",
    "# Set the x and y-axis scales to be log so we can see structure more easily\n",
    "plt.xscale('log')\n",
    "plt.yscale('log')\n",
    "\n",
    "# At the end, show the plot\n",
    "plt.show()"
   ]
  },
  {
   "cell_type": "code",
   "execution_count": 29,
   "metadata": {},
   "outputs": [
    {
     "data": {
      "image/png": "[encoded data removed]",
      "text/plain": [
       "<Figure size 432x288 with 1 Axes>"
      ]
     },
     "metadata": {
      "needs_background": "light"
     },
     "output_type": "display_data"
    }
   ],
   "source": [
    "# Make a histogram of planet's in units of Earth radius\n",
    "plt.hist(data['pl_rade']) # Plot the histogram\n",
    "\n",
    "# Label the axes\n",
    "plt.xlabel('Radius [R$_\\oplus$]', fontsize=14)\n",
    "plt.ylabel('N', fontsize=14)\n",
    "\n",
    "# Show the plot\n",
    "plt.show()"
   ]
  },
  {
   "cell_type": "code",
   "execution_count": 30,
   "metadata": {},
   "outputs": [
    {
     "data": {
      "image/png": "[encoded data removed]",
      "text/plain": [
       "<Figure size 432x288 with 1 Axes>"
      ]
     },
     "metadata": {
      "needs_background": "light"
     },
     "output_type": "display_data"
    }
   ],
   "source": [
    "# Create bins that are uniformly-sized in log space\n",
    "log_bins = np.logspace(np.log10(0.3), np.log10(20), 50)\n",
    "plt.hist(data['pl_rade'], bins = log_bins)\n",
    "\n",
    "# Log scale on the x-axis\n",
    "plt.xscale('log')\n",
    "\n",
    "# Label the axes\n",
    "plt.xlabel('Radius [R$_\\oplus$]', fontsize=14) # More LaTex. \\oplus gives us the symbol for Earth\n",
    "plt.ylabel('N', fontsize=14)\n",
    "\n",
    "# Show the plot\n",
    "plt.show()"
   ]
  },
  {
   "cell_type": "code",
   "execution_count": 31,
   "metadata": {},
   "outputs": [
    {
     "data": {
      "image/png": "[encoded data removed]",
      "text/plain": [
       "<Figure size 432x288 with 1 Axes>"
      ]
     },
     "metadata": {
      "needs_background": "light"
     },
     "output_type": "display_data"
    }
   ],
   "source": [
    "plt.hist(data['pl_rade'], bins = log_bins) # Using the same bins as above\n",
    "\n",
    "# Let's zoom in on the distribution of planet radii in this region\n",
    "plt.xlim([1., 5]) # Units of Earth radius\n",
    "\n",
    "# Same plot housekeeping as above\n",
    "# -------------------------------\n",
    "# Log scale on the x-axis\n",
    "plt.xscale('log')\n",
    "\n",
    "# Label the axes\n",
    "plt.xlabel('Radius [R$_\\oplus$]', fontsize=14) # More LaTex. \\oplus gives us the symbol for Earth\n",
    "plt.ylabel('N', fontsize=14)\n",
    "\n",
    "# Show the plot\n",
    "plt.show()"
   ]
  },
  {
   "cell_type": "code",
   "execution_count": 32,
   "metadata": {},
   "outputs": [
    {
     "data": {
      "image/png": "[encoded data removed]",
      "text/plain": [
       "<Figure size 432x288 with 1 Axes>"
      ]
     },
     "metadata": {
      "needs_background": "light"
     },
     "output_type": "display_data"
    }
   ],
   "source": [
    "# Plot orbital period vs planet radius\n",
    "plt.plot(data['pl_orbper'], data['pl_rade'], '.', alpha=0.3)\n",
    "\n",
    "# Plot housekeeping\n",
    "plt.xlabel('Orbital period [days]', fontsize=14)\n",
    "plt.ylabel('Radius [R$_\\oplus$]', fontsize=14)\n",
    "\n",
    "# Log scale so we can see structure\n",
    "plt.xscale('log')\n",
    "plt.yscale('log')\n",
    "\n",
    "plt.show()"
   ]
  },
  {
   "cell_type": "code",
   "execution_count": 39,
   "metadata": {},
   "outputs": [
    {
     "data": {
      "text/plain": [
       "<Figure size 1440x2016 with 0 Axes>"
      ]
     },
     "execution_count": 39,
     "metadata": {},
     "output_type": "execute_result"
    },
    {
     "data": {
      "image/png": "[encoded data removed]",
      "text/plain": [
       "<Figure size 469.375x360 with 1 Axes>"
      ]
     },
     "metadata": {
      "needs_background": "light"
     },
     "output_type": "display_data"
    },
    {
     "data": {
      "text/plain": [
       "<Figure size 1440x2016 with 0 Axes>"
      ]
     },
     "metadata": {},
     "output_type": "display_data"
    }
   ],
   "source": [
    "import matplotlib.pyplot as plt\n",
    "%matplotlib inline\n",
    "import seaborn as sns\n",
    "\n",
    "sns.lmplot(x='sy_gaiamag',y='loc_rowid', hue='discoverymethod', data= data)\n",
    "plt.figure(figsize=(20,28))"
   ]
  },
  {
   "cell_type": "code",
   "execution_count": 46,
   "metadata": {},
   "outputs": [
    {
     "data": {
      "text/plain": [
       "<Figure size 1440x2016 with 0 Axes>"
      ]
     },
     "execution_count": 46,
     "metadata": {},
     "output_type": "execute_result"
    },
    {
     "data": {
      "image/png": "[encoded data removed]",
      "text/plain": [
       "<Figure size 469.375x360 with 1 Axes>"
      ]
     },
     "metadata": {
      "needs_background": "light"
     },
     "output_type": "display_data"
    },
    {
     "data": {
      "text/plain": [
       "<Figure size 1440x2016 with 0 Axes>"
      ]
     },
     "metadata": {},
     "output_type": "display_data"
    }
   ],
   "source": [
    "import matplotlib.pyplot as plt\n",
    "%matplotlib inline\n",
    "import seaborn as sns\n",
    "\n",
    "sns.lmplot(y='pl_orbper',x='loc_rowid', hue='discoverymethod', data= data)\n",
    "plt.figure(figsize=(20,28))"
   ]
  },
  {
   "cell_type": "code",
   "execution_count": 59,
   "metadata": {},
   "outputs": [
    {
     "name": "stderr",
     "output_type": "stream",
     "text": [
      "/Users/md.redyanahmed/opt/anaconda3/lib/python3.8/site-packages/seaborn/categorical.py:1296: UserWarning: 47.0% of the points cannot be placed; you may want to decrease the size of the markers or use stripplot.\n",
      "  warnings.warn(msg, UserWarning)\n"
     ]
    },
    {
     "data": {
      "text/plain": [
       "<Figure size 1440x2016 with 0 Axes>"
      ]
     },
     "execution_count": 59,
     "metadata": {},
     "output_type": "execute_result"
    },
    {
     "data": {
      "image/png": "[encoded data removed]",
      "text/plain": [
       "<Figure size 432x288 with 1 Axes>"
      ]
     },
     "metadata": {
      "needs_background": "light"
     },
     "output_type": "display_data"
    },
    {
     "data": {
      "text/plain": [
       "<Figure size 1440x2016 with 0 Axes>"
      ]
     },
     "metadata": {},
     "output_type": "display_data"
    }
   ],
   "source": [
    "import matplotlib.pyplot as plt\n",
    "%matplotlib inline\n",
    "import seaborn as sns\n",
    "\n",
    "sns.swarmplot(y='sy_pnum',x='sy_snum', hue='discoverymethod', data= data)\n",
    "plt.figure(figsize=(20,28))"
   ]
  },
  {
   "cell_type": "code",
   "execution_count": 61,
   "metadata": {},
   "outputs": [
    {
     "data": {
      "text/plain": [
       "<Figure size 1440x2016 with 0 Axes>"
      ]
     },
     "execution_count": 61,
     "metadata": {},
     "output_type": "execute_result"
    },
    {
     "data": {
      "image/png": "[encoded data removed]",
      "text/plain": [
       "<Figure size 432x288 with 1 Axes>"
      ]
     },
     "metadata": {
      "needs_background": "light"
     },
     "output_type": "display_data"
    },
    {
     "data": {
      "text/plain": [
       "<Figure size 1440x2016 with 0 Axes>"
      ]
     },
     "metadata": {},
     "output_type": "display_data"
    }
   ],
   "source": [
    "\n",
    "import matplotlib.pyplot as plt\n",
    "%matplotlib inline\n",
    "import seaborn as sns\n",
    "\n",
    "sns.swarmplot(y='sy_kmag',x='sy_snum', hue='discoverymethod', data= data)\n",
    "plt.figure(figsize=(20,28))"
   ]
  },
  {
   "cell_type": "code",
   "execution_count": 62,
   "metadata": {},
   "outputs": [
    {
     "data": {
      "text/plain": [
       "<Figure size 1440x2016 with 0 Axes>"
      ]
     },
     "execution_count": 62,
     "metadata": {},
     "output_type": "execute_result"
    },
    {
     "data": {
      "image/png": "[encoded data removed]",
      "text/plain": [
       "<Figure size 432x288 with 1 Axes>"
      ]
     },
     "metadata": {
      "needs_background": "light"
     },
     "output_type": "display_data"
    },
    {
     "data": {
      "text/plain": [
       "<Figure size 1440x2016 with 0 Axes>"
      ]
     },
     "metadata": {},
     "output_type": "display_data"
    }
   ],
   "source": [
    "\n",
    "import matplotlib.pyplot as plt\n",
    "%matplotlib inline\n",
    "import seaborn as sns\n",
    "\n",
    "sns.scatterplot(y='sy_vmag',x='sy_snum', hue='discoverymethod', data= data)\n",
    "plt.figure(figsize=(20,28))"
   ]
  },
  {
   "cell_type": "code",
   "execution_count": 57,
   "metadata": {},
   "outputs": [
    {
     "data": {
      "text/plain": [
       "Text(0.5, 1.0, 'Brightness of the lens star, in V-band')"
      ]
     },
     "execution_count": 57,
     "metadata": {},
     "output_type": "execute_result"
    },
    {
     "data": {
      "image/png": "[encoded data removed]",
      "text/plain": [
       "<Figure size 432x288 with 1 Axes>"
      ]
     },
     "metadata": {
      "needs_background": "light"
     },
     "output_type": "display_data"
    }
   ],
   "source": [
    "sns.barplot(x=data.index, y=data['sy_vmag'])\n",
    "plt.xlabel('stars')\n",
    "plt.title(\"Brightness of the lens star, in V-band\")"
   ]
  },
  {
   "cell_type": "code",
   "execution_count": null,
   "metadata": {},
   "outputs": [],
   "source": []
  }
 ],
 "metadata": {
  "kernelspec": {
   "display_name": "Python 3",
   "language": "python",
   "name": "python3"
  },
  "language_info": {
   "codemirror_mode": {
    "name": "ipython",
    "version": 3
   },
   "file_extension": ".py",
   "mimetype": "text/x-python",
   "name": "python",
   "nbconvert_exporter": "python",
   "pygments_lexer": "ipython3",
   "version": "3.8.5"
  }
 },
 "nbformat": 4,
 "nbformat_minor": 4
}
